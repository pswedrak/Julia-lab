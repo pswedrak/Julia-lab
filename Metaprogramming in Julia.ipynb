{
 "cells": [
  {
   "cell_type": "code",
   "execution_count": 72,
   "metadata": {},
   "outputs": [
    {
     "data": {
      "text/plain": [
       "harmonicMean (generic function with 1 method)"
      ]
     },
     "execution_count": 72,
     "metadata": {},
     "output_type": "execute_result"
    }
   ],
   "source": [
    "@generated function harmonicMean(I::Vararg{Integer, N}) where N\n",
    "    ex = :(1 / I[$1])\n",
    "    for i = 2 : N\n",
    "        ex = :( 1 / I[$i] + $ex)\n",
    "    end\n",
    "    return :(N / $ex)\n",
    "end\n",
    "    "
   ]
  },
  {
   "cell_type": "code",
   "execution_count": 73,
   "metadata": {},
   "outputs": [
    {
     "data": {
      "text/plain": [
       "harmonicMean_impl (generic function with 1 method)"
      ]
     },
     "execution_count": 73,
     "metadata": {},
     "output_type": "execute_result"
    }
   ],
   "source": [
    "function harmonicMean_impl(I::Vararg{Integer, N}) where N\n",
    "    ex = :(1 / I[$1])\n",
    "    for i = 2 : N\n",
    "        ex = :( 1 / I[$i] + $ex)\n",
    "    end\n",
    "    return :(N / $ex)\n",
    "end"
   ]
  },
  {
   "cell_type": "code",
   "execution_count": 74,
   "metadata": {},
   "outputs": [
    {
     "data": {
      "text/plain": [
       ":(N / (1 / I[3] + (1 / I[2] + 1 / I[1])))"
      ]
     },
     "execution_count": 74,
     "metadata": {},
     "output_type": "execute_result"
    }
   ],
   "source": [
    "harmonicMean_impl(1, 4, 4)"
   ]
  },
  {
   "cell_type": "code",
   "execution_count": 75,
   "metadata": {},
   "outputs": [
    {
     "data": {
      "text/plain": [
       "2.0"
      ]
     },
     "execution_count": 75,
     "metadata": {},
     "output_type": "execute_result"
    }
   ],
   "source": [
    "harmonicMean(1,4,4)"
   ]
  },
  {
   "cell_type": "markdown",
   "metadata": {},
   "source": [
    "Automatic differentiation"
   ]
  },
  {
   "cell_type": "code",
   "execution_count": 76,
   "metadata": {},
   "outputs": [
    {
     "data": {
      "text/plain": [
       "autodiff (generic function with 7 methods)"
      ]
     },
     "execution_count": 76,
     "metadata": {},
     "output_type": "execute_result"
    }
   ],
   "source": [
    "function autodiff(ex::Expr)::Expr\n",
    "    if(length(ex.args) == 1) \n",
    "        return ex\n",
    "    else\n",
    "        args = ex.args\n",
    "        autodiff(Val{args[1]}, args[2:end])\n",
    "    end\n",
    "end"
   ]
  },
  {
   "cell_type": "code",
   "execution_count": 77,
   "metadata": {},
   "outputs": [
    {
     "data": {
      "text/plain": [
       "autodiff (generic function with 7 methods)"
      ]
     },
     "execution_count": 77,
     "metadata": {},
     "output_type": "execute_result"
    }
   ],
   "source": [
    "function autodiff(x::T) where T <: Number\n",
    "    return 0\n",
    "end"
   ]
  },
  {
   "cell_type": "code",
   "execution_count": 78,
   "metadata": {
    "scrolled": true
   },
   "outputs": [
    {
     "data": {
      "text/plain": [
       "autodiff (generic function with 7 methods)"
      ]
     },
     "execution_count": 78,
     "metadata": {},
     "output_type": "execute_result"
    }
   ],
   "source": [
    "function autodiff(x::Symbol) \n",
    "    return 1\n",
    "end"
   ]
  },
  {
   "cell_type": "code",
   "execution_count": 79,
   "metadata": {},
   "outputs": [
    {
     "data": {
      "text/plain": [
       "autodiff (generic function with 7 methods)"
      ]
     },
     "execution_count": 79,
     "metadata": {},
     "output_type": "execute_result"
    }
   ],
   "source": [
    "function autodiff(::Type{Val{:+}}, I::Array{Any, 1}) \n",
    "    diff1 = autodiff(I[1])\n",
    "    ex = :($diff1)\n",
    "    \n",
    "    for i = 2:length(I)\n",
    "        diff = autodiff(I[i])\n",
    "        ex = :($ex + $diff)\n",
    "    end\n",
    "    return ex\n",
    "end"
   ]
  },
  {
   "cell_type": "code",
   "execution_count": 80,
   "metadata": {},
   "outputs": [
    {
     "data": {
      "text/plain": [
       "autodiff (generic function with 7 methods)"
      ]
     },
     "execution_count": 80,
     "metadata": {},
     "output_type": "execute_result"
    }
   ],
   "source": [
    "function autodiff(::Type{Val{:-}}, I::Array{Any, 1}) \n",
    "    diff1 = autodiff(I[1])\n",
    "    ex = :($diff1)\n",
    "    \n",
    "    for i = 2:length(I)\n",
    "        diff = autodiff(I[i])\n",
    "        ex = :($ex - $diff)\n",
    "    end\n",
    "    return ex\n",
    "end"
   ]
  },
  {
   "cell_type": "code",
   "execution_count": 81,
   "metadata": {},
   "outputs": [
    {
     "data": {
      "text/plain": [
       "autodiff (generic function with 7 methods)"
      ]
     },
     "execution_count": 81,
     "metadata": {},
     "output_type": "execute_result"
    }
   ],
   "source": [
    "function autodiff(::Type{Val{:*}}, I::Array{Any, 1}) \n",
    "    \n",
    "    if(length(I) == 2)\n",
    "        diff1 = autodiff(I[1])\n",
    "        exdiff1 = :($diff1)\n",
    "        ex1 = I[1]\n",
    "    \n",
    "        diff2 = autodiff(I[2])\n",
    "        exdiff2 = :($diff2)\n",
    "        ex2 = I[2]\n",
    "        diff =  :($ex1 * $exdiff2 + $ex2 * $exdiff1)\n",
    "        return diff\n",
    "    else\n",
    "        ex = I[2]\n",
    "        for i = 3:length(I)\n",
    "            tmp = I[i]\n",
    "            ex = :($ex * $tmp)\n",
    "        end\n",
    "        \n",
    "        ex1 = I[1]\n",
    "        exdiff1 = autodiff(I[1])\n",
    "        compound_diff = autodiff(ex)\n",
    "\n",
    "        return :($exdiff1 * $ex + $ex1 * $compound_diff)\n",
    "    end\n",
    "\n",
    "end"
   ]
  },
  {
   "cell_type": "code",
   "execution_count": 82,
   "metadata": {},
   "outputs": [
    {
     "data": {
      "text/plain": [
       "autodiff (generic function with 7 methods)"
      ]
     },
     "execution_count": 82,
     "metadata": {},
     "output_type": "execute_result"
    }
   ],
   "source": [
    "function autodiff(::Type{Val{:/}}, I::Array{Any, 1}) \n",
    "    diff1 = autodiff(I[1])\n",
    "    exdiff1 = :($diff1)\n",
    "    ex1 = I[1]\n",
    "    \n",
    "    diff2 = autodiff(I[2])\n",
    "    exdiff2 = :($diff2)\n",
    "    ex2 = I[2]\n",
    " \n",
    "    return :(($exdiff1 * $ex2 - $ex1 * $exdiff2) / ($ex2 * $ex2))\n",
    "end"
   ]
  },
  {
   "cell_type": "markdown",
   "metadata": {},
   "source": [
    "Examples:"
   ]
  },
  {
   "cell_type": "code",
   "execution_count": 83,
   "metadata": {},
   "outputs": [
    {
     "data": {
      "text/plain": [
       "0"
      ]
     },
     "execution_count": 83,
     "metadata": {},
     "output_type": "execute_result"
    }
   ],
   "source": [
    "ex = :(2)\n",
    "eval(autodiff(ex))"
   ]
  },
  {
   "cell_type": "code",
   "execution_count": 84,
   "metadata": {},
   "outputs": [
    {
     "data": {
      "text/plain": [
       "2"
      ]
     },
     "execution_count": 84,
     "metadata": {},
     "output_type": "execute_result"
    }
   ],
   "source": [
    "ex = :(2x)\n",
    "eval(autodiff(ex))"
   ]
  },
  {
   "cell_type": "code",
   "execution_count": 85,
   "metadata": {},
   "outputs": [
    {
     "data": {
      "text/plain": [
       "2"
      ]
     },
     "execution_count": 85,
     "metadata": {},
     "output_type": "execute_result"
    }
   ],
   "source": [
    "ex = :(x*x)\n",
    "x = 1\n",
    "eval(autodiff(ex))"
   ]
  },
  {
   "cell_type": "code",
   "execution_count": 86,
   "metadata": {},
   "outputs": [
    {
     "data": {
      "text/plain": [
       "4"
      ]
     },
     "execution_count": 86,
     "metadata": {},
     "output_type": "execute_result"
    }
   ],
   "source": [
    "ex = :(x + x*x*x)\n",
    "x = 1\n",
    "eval(autodiff(ex))"
   ]
  },
  {
   "cell_type": "code",
   "execution_count": 87,
   "metadata": {},
   "outputs": [
    {
     "data": {
      "text/plain": [
       "-572.0"
      ]
     },
     "execution_count": 87,
     "metadata": {},
     "output_type": "execute_result"
    }
   ],
   "source": [
    "ex = :((x + 2) / (x - 4) * (7*x*x + 2))\n",
    "x = 5\n",
    "eval(autodiff(ex))"
   ]
  },
  {
   "cell_type": "markdown",
   "metadata": {},
   "source": [
    "http://www.wolframalpha.com/input/?i=((x+%2B+2)+%2F+(x+-+4)+*+(7*x*x+%2B+2))%27+,+x+%3D5"
   ]
  },
  {
   "cell_type": "code",
   "execution_count": 88,
   "metadata": {},
   "outputs": [
    {
     "data": {
      "text/plain": [
       "27.58"
      ]
     },
     "execution_count": 88,
     "metadata": {},
     "output_type": "execute_result"
    }
   ],
   "source": [
    "ex = :(14/(x * (x-7)) + 28x)\n",
    "x = 5\n",
    "eval(autodiff(ex))"
   ]
  },
  {
   "cell_type": "markdown",
   "metadata": {},
   "source": [
    "http://www.wolframalpha.com/input/?i=(14%2F(x+*+(x-7))+%2B+28x)%27+,+x+%3D+5"
   ]
  },
  {
   "cell_type": "code",
   "execution_count": 90,
   "metadata": {},
   "outputs": [
    {
     "data": {
      "text/plain": [
       "-0.0011927437641723355"
      ]
     },
     "execution_count": 90,
     "metadata": {},
     "output_type": "execute_result"
    }
   ],
   "source": [
    "ex = :(4 / (x+2) / (x+7) / (x * x))\n",
    "x = 5\n",
    "eval(autodiff(ex))"
   ]
  },
  {
   "cell_type": "markdown",
   "metadata": {},
   "source": [
    "http://www.wolframalpha.com/input/?i=(4+%2F+(x%2B2)+%2F+(x%2B7)+%2F+(x+*+x))%27+,+x+%3D5"
   ]
  },
  {
   "cell_type": "code",
   "execution_count": null,
   "metadata": {},
   "outputs": [],
   "source": []
  }
 ],
 "metadata": {
  "kernelspec": {
   "display_name": "Julia 0.6.2",
   "language": "julia",
   "name": "julia-0.6"
  },
  "language_info": {
   "file_extension": ".jl",
   "mimetype": "application/julia",
   "name": "julia",
   "version": "0.6.2"
  }
 },
 "nbformat": 4,
 "nbformat_minor": 2
}
